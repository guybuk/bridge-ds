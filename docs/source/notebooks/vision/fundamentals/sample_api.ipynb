{
 "cells": [
  {
   "attachments": {},
   "cell_type": "markdown",
   "id": "0",
   "metadata": {},
   "source": [
    "# Preliminaries\n",
    "## Installation\n",
    "To be able to run this tutorial, please install the following libraries:"
   ]
  },
  {
   "cell_type": "code",
   "execution_count": null,
   "id": "1",
   "metadata": {},
   "outputs": [],
   "source": [
    "!pip install bridge-ds\n",
    "!pip install pycocotools"
   ]
  },
  {
   "cell_type": "markdown",
   "id": "2",
   "metadata": {},
   "source": [
    "## Imports"
   ]
  },
  {
   "cell_type": "code",
   "execution_count": null,
   "id": "3",
   "metadata": {},
   "outputs": [],
   "source": [
    "import tempfile\n",
    "from pathlib import Path\n",
    "\n",
    "import holoviews as hv\n",
    "import panel as pn\n",
    "\n",
    "hv.extension(\"bokeh\")\n",
    "pn.extension()\n",
    "# If in google colab, run hack that allows holoviews to work properly\n",
    "try:\n",
    "    import google.colab  # noqa\n",
    "\n",
    "    def _render(self, **kwargs):\n",
    "        hv.extension(\"bokeh\")\n",
    "        return hv.Store.render(self)\n",
    "\n",
    "    hv.core.Dimensioned._repr_mimebundle_ = _render\n",
    "except ModuleNotFoundError:\n",
    "    pass\n",
    "\n",
    "TMP_NOTEBOOK_ROOT = Path(tempfile.mkdtemp()) / \"basics\" / \"sample_api\""
   ]
  },
  {
   "cell_type": "markdown",
   "id": "4",
   "metadata": {},
   "source": [
    "## Loading a dataset"
   ]
  },
  {
   "cell_type": "markdown",
   "id": "5",
   "metadata": {},
   "source": [
    "To create Dataset objects, it's recommended to utilize a **DatasetProvider**. In this instance, we'll employ the Coco2017Detection provider:"
   ]
  },
  {
   "cell_type": "code",
   "execution_count": null,
   "id": "6",
   "metadata": {},
   "outputs": [],
   "source": [
    "from bridge.display.vision import Holoviews\n",
    "from bridge.providers.vision import Coco2017Detection\n",
    "\n",
    "root_dir = TMP_NOTEBOOK_ROOT / \"coco\"\n",
    "\n",
    "provider = Coco2017Detection(root_dir)\n",
    "ds = provider.build_dataset(display_engine=Holoviews(bbox_format=\"xywh\"))\n",
    "ds"
   ]
  },
  {
   "cell_type": "markdown",
   "id": "7",
   "metadata": {},
   "source": [
    "\n",
    "# Sample API\n",
    "\n",
    "In BridgeDS, we use two complementing approaches to view datasets. We call them the **Sample API** and the **Table API**. This tutorial is about the former.\n",
    "\n",
    "Sample API can be loosely described as:\n",
    "> A dataset can be viewed as a collection of samples, where samples are pythonic objects (Sample) that contain a collection of elements.\n",
    "\n",
    "Let's demonstrate how to use it:"
   ]
  },
  {
   "cell_type": "markdown",
   "id": "8",
   "metadata": {},
   "source": [
    "## Indexing\n",
    "\n",
    "`ds.iget / ds.get` are our equivalents of `df.iloc / df.loc`, used for fetching individual samples from the dataset:"
   ]
  },
  {
   "cell_type": "code",
   "execution_count": null,
   "id": "9",
   "metadata": {},
   "outputs": [],
   "source": [
    "sample = ds.get(34)  # get sample with index 34\n",
    "print(\"Sample ID:\", sample.id)\n",
    "sample = ds.iget(1)  # get sample with positional index 1\n",
    "print(\"Sample ID:\", sample.id)"
   ]
  },
  {
   "cell_type": "markdown",
   "id": "10",
   "metadata": {},
   "source": [
    "## Properties\n",
    "The sample object itself is rather lean, it exposes only its _id_, its _elements_, and its _display_engine_.\n",
    "\n",
    "If you recall, _elements_ in BridgeDS can be anything - from raw data objects like images or text, to annotations such as bboxes, segmaps or class labels.\n",
    "\n",
    "Let's see what elements our current sample has:\n"
   ]
  },
  {
   "cell_type": "code",
   "execution_count": null,
   "id": "11",
   "metadata": {},
   "outputs": [],
   "source": [
    "print(\"Sample ID:\", sample.id)\n",
    "print(\"Total num elements in sample:\", len(sample), \"\\n\")\n",
    "for etype, elist in sample.elements.items():\n",
    "    print(f\"Num elements with etype={etype}:\", len(elist))"
   ]
  },
  {
   "cell_type": "markdown",
   "id": "12",
   "metadata": {},
   "source": [
    "We see one image element and two bboxes. Having one \"raw data\" element (the image) and multiple \"annotation\" elements is actually a common use-case. For this reason, we implement COCO using a sub-class of Sample called **SingularSample**, that exposes a more convenient API where the sample has a special element available with `sample.element`, and the rest of the elements are available at `sample.annotations`:"
   ]
  },
  {
   "cell_type": "code",
   "execution_count": null,
   "id": "13",
   "metadata": {},
   "outputs": [],
   "source": [
    "print(\"The 'sample element' (the image):\")\n",
    "print(f\"class: {type(sample).__name__}\")\n",
    "print(f\"etype: {sample.element.etype}\")\n",
    "print(f\"image shape: {sample.element.data.shape}\")\n",
    "print(f\"element_id: {sample.element.id}\\n\")\n",
    "print(\"The annotation elements:\")\n",
    "print(f\"n_bboxes: {len(sample.annotations['bbox'])}\")\n",
    "[print(bb_element.data) for bb_element in sample.annotations[\"bbox\"]];"
   ]
  },
  {
   "cell_type": "markdown",
   "id": "14",
   "metadata": {},
   "source": [
    "As you can see, **elements** are container objects of the actual data - they have the `.data` property. A **sample** is just a collection of **elements**, and is the representation of an individual example from the dataset."
   ]
  },
  {
   "cell_type": "markdown",
   "id": "15",
   "metadata": {},
   "source": [
    "## The DisplayEngine\n",
    "We will elaborate on how the DisplayEngine works in a separate tutorial, but for basic purposes it's worth noting that both the Dataset and the Sample objects expose a `.show()` method, which takes advantage of the DisplayEngine and produces the following:"
   ]
  },
  {
   "cell_type": "code",
   "execution_count": null,
   "id": "16",
   "metadata": {},
   "outputs": [],
   "source": [
    "sample.show()"
   ]
  },
  {
   "cell_type": "code",
   "execution_count": null,
   "id": "17",
   "metadata": {},
   "outputs": [],
   "source": [
    "# display entire dataset with interactive interface:\n",
    "ds.show()"
   ]
  },
  {
   "cell_type": "markdown",
   "id": "18",
   "metadata": {},
   "source": [
    "As you can see, our class labels are integers rather than strings, because that's how the raw data is present in the COCO dataset. If you would like to learn how to change this, or in general how to perform dataset-wide operations, proceed to our next tutorial about the **Table API**"
   ]
  }
 ],
 "metadata": {
  "kernelspec": {
   "display_name": "python3",
   "language": "python",
   "name": "python3"
  },
  "language_info": {
   "codemirror_mode": {
    "name": "ipython",
    "version": 3
   },
   "file_extension": ".py",
   "mimetype": "text/x-python",
   "name": "python",
   "nbconvert_exporter": "python",
   "pygments_lexer": "ipython3",
   "version": "3.10.12"
  }
 },
 "nbformat": 4,
 "nbformat_minor": 5
}
